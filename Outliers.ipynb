{
 "cells": [
  {
   "cell_type": "code",
   "execution_count": 1,
   "id": "46f103e5",
   "metadata": {},
   "outputs": [],
   "source": [
    "import pandas as pd \n",
    "import numpy as np \n",
    "import matplotlib.pyplot as plt \n",
    "import seaborn as sns"
   ]
  },
  {
   "cell_type": "code",
   "execution_count": 2,
   "id": "4bad1c0c",
   "metadata": {},
   "outputs": [],
   "source": [
    "df = pd.read_csv(r'diabetes.csv')"
   ]
  },
  {
   "cell_type": "code",
   "execution_count": 3,
   "id": "b05938e8",
   "metadata": {},
   "outputs": [
    {
     "data": {
      "text/html": [
       "<div>\n",
       "<style scoped>\n",
       "    .dataframe tbody tr th:only-of-type {\n",
       "        vertical-align: middle;\n",
       "    }\n",
       "\n",
       "    .dataframe tbody tr th {\n",
       "        vertical-align: top;\n",
       "    }\n",
       "\n",
       "    .dataframe thead th {\n",
       "        text-align: right;\n",
       "    }\n",
       "</style>\n",
       "<table border=\"1\" class=\"dataframe\">\n",
       "  <thead>\n",
       "    <tr style=\"text-align: right;\">\n",
       "      <th></th>\n",
       "      <th>Pregnancies</th>\n",
       "      <th>Glucose</th>\n",
       "      <th>BloodPressure</th>\n",
       "      <th>SkinThickness</th>\n",
       "      <th>Insulin</th>\n",
       "      <th>BMI</th>\n",
       "      <th>DiabetesPedigreeFunction</th>\n",
       "      <th>Age</th>\n",
       "      <th>Outcome</th>\n",
       "    </tr>\n",
       "  </thead>\n",
       "  <tbody>\n",
       "    <tr>\n",
       "      <th>0</th>\n",
       "      <td>6</td>\n",
       "      <td>148</td>\n",
       "      <td>72</td>\n",
       "      <td>35</td>\n",
       "      <td>0</td>\n",
       "      <td>33.6</td>\n",
       "      <td>0.627</td>\n",
       "      <td>50</td>\n",
       "      <td>1</td>\n",
       "    </tr>\n",
       "    <tr>\n",
       "      <th>1</th>\n",
       "      <td>1</td>\n",
       "      <td>85</td>\n",
       "      <td>66</td>\n",
       "      <td>29</td>\n",
       "      <td>0</td>\n",
       "      <td>26.6</td>\n",
       "      <td>0.351</td>\n",
       "      <td>31</td>\n",
       "      <td>0</td>\n",
       "    </tr>\n",
       "    <tr>\n",
       "      <th>2</th>\n",
       "      <td>8</td>\n",
       "      <td>183</td>\n",
       "      <td>64</td>\n",
       "      <td>0</td>\n",
       "      <td>0</td>\n",
       "      <td>23.3</td>\n",
       "      <td>0.672</td>\n",
       "      <td>32</td>\n",
       "      <td>1</td>\n",
       "    </tr>\n",
       "    <tr>\n",
       "      <th>3</th>\n",
       "      <td>1</td>\n",
       "      <td>89</td>\n",
       "      <td>66</td>\n",
       "      <td>23</td>\n",
       "      <td>94</td>\n",
       "      <td>28.1</td>\n",
       "      <td>0.167</td>\n",
       "      <td>21</td>\n",
       "      <td>0</td>\n",
       "    </tr>\n",
       "    <tr>\n",
       "      <th>4</th>\n",
       "      <td>0</td>\n",
       "      <td>137</td>\n",
       "      <td>40</td>\n",
       "      <td>35</td>\n",
       "      <td>168</td>\n",
       "      <td>43.1</td>\n",
       "      <td>2.288</td>\n",
       "      <td>33</td>\n",
       "      <td>1</td>\n",
       "    </tr>\n",
       "  </tbody>\n",
       "</table>\n",
       "</div>"
      ],
      "text/plain": [
       "   Pregnancies  Glucose  BloodPressure  SkinThickness  Insulin   BMI  \\\n",
       "0            6      148             72             35        0  33.6   \n",
       "1            1       85             66             29        0  26.6   \n",
       "2            8      183             64              0        0  23.3   \n",
       "3            1       89             66             23       94  28.1   \n",
       "4            0      137             40             35      168  43.1   \n",
       "\n",
       "   DiabetesPedigreeFunction  Age  Outcome  \n",
       "0                     0.627   50        1  \n",
       "1                     0.351   31        0  \n",
       "2                     0.672   32        1  \n",
       "3                     0.167   21        0  \n",
       "4                     2.288   33        1  "
      ]
     },
     "execution_count": 3,
     "metadata": {},
     "output_type": "execute_result"
    }
   ],
   "source": [
    "df.head()"
   ]
  },
  {
   "cell_type": "code",
   "execution_count": 4,
   "id": "c5c06a0e",
   "metadata": {},
   "outputs": [
    {
     "name": "stdout",
     "output_type": "stream",
     "text": [
      "<class 'pandas.core.frame.DataFrame'>\n",
      "RangeIndex: 768 entries, 0 to 767\n",
      "Data columns (total 9 columns):\n",
      " #   Column                    Non-Null Count  Dtype  \n",
      "---  ------                    --------------  -----  \n",
      " 0   Pregnancies               768 non-null    int64  \n",
      " 1   Glucose                   768 non-null    int64  \n",
      " 2   BloodPressure             768 non-null    int64  \n",
      " 3   SkinThickness             768 non-null    int64  \n",
      " 4   Insulin                   768 non-null    int64  \n",
      " 5   BMI                       768 non-null    float64\n",
      " 6   DiabetesPedigreeFunction  768 non-null    float64\n",
      " 7   Age                       768 non-null    int64  \n",
      " 8   Outcome                   768 non-null    int64  \n",
      "dtypes: float64(2), int64(7)\n",
      "memory usage: 54.1 KB\n"
     ]
    }
   ],
   "source": [
    "df.info()"
   ]
  },
  {
   "cell_type": "code",
   "execution_count": 5,
   "id": "37de252f",
   "metadata": {},
   "outputs": [
    {
     "data": {
      "text/plain": [
       "0"
      ]
     },
     "execution_count": 5,
     "metadata": {},
     "output_type": "execute_result"
    }
   ],
   "source": [
    "df.duplicated().sum()"
   ]
  },
  {
   "cell_type": "code",
   "execution_count": 6,
   "id": "7ad6dd78",
   "metadata": {},
   "outputs": [],
   "source": [
    "def draw_boxplot(df):\n",
    "    j = 1\n",
    "    for col in df.columns[:]:\n",
    "        plt.figure(figsize = (20,5))\n",
    "        plt.subplot(4,2,j)\n",
    "        sns.boxplot(x= df[col] )\n",
    "\n",
    "        j+=1"
   ]
  },
  {
   "cell_type": "code",
   "execution_count": 7,
   "id": "d65a2e4f",
   "metadata": {
    "scrolled": true
   },
   "outputs": [],
   "source": [
    "def outlier_handle_num(df):\n",
    "    data = df.copy()\n",
    "    data = data.select_dtypes(include='number')\n",
    "\n",
    "    for col in data.columns[:]:\n",
    "        print(data[col])\n",
    "        if data[col].skew() > 0.2 : # Assume 0.2 as the threshold \n",
    "            # IQR \n",
    "            q1 = data[col].quantile(0.25)\n",
    "            q3 = data[col].quantile(0.75)\n",
    "            iqr = q3 - q1 \n",
    "\n",
    "            upper_whisker = q3 + 1.5* iqr\n",
    "            lower_whisker = q1 - 1.5* iqr\n",
    "            if lower_whisker < 0 :\n",
    "                lower_whisker = 0 \n",
    "            filt2 = data[col] >  upper_whisker \n",
    "            filt3 = data[col] <  lower_whisker\n",
    "\n",
    "            out2 = data[filt2].index\n",
    "            out3 = data[filt3].index\n",
    "            data = data.drop(out2 , axis = 0)\n",
    "            data = data.drop(out3 , axis = 0)\n",
    "\n",
    "\n",
    "        else :\n",
    "            # Z-Score\n",
    "            mean = np.mean(data[col])\n",
    "            std = np.std(data[col])\n",
    "\n",
    "            upper_whisker = mean + 3 * std\n",
    "            lower_whisker = mean - 3*std \n",
    "\n",
    "            filt2 = data[col] >  upper_whisker \n",
    "            filt3 = data[col] <  lower_whisker\n",
    "\n",
    "            out2 = data[filt2].index\n",
    "            out3 = data[filt3].index\n",
    "            data = data.drop(out2 , axis = 0)\n",
    "            data = data.drop(out3 , axis = 0)\n",
    "    return data"
   ]
  },
  {
   "cell_type": "code",
   "execution_count": 8,
   "id": "5f489fb4",
   "metadata": {},
   "outputs": [
    {
     "data": {
      "text/plain": [
       "Pregnancies                 0.901674\n",
       "Glucose                     0.173754\n",
       "BloodPressure              -1.843608\n",
       "SkinThickness               0.109372\n",
       "Insulin                     2.272251\n",
       "BMI                        -0.428982\n",
       "DiabetesPedigreeFunction    1.919911\n",
       "Age                         1.129597\n",
       "Outcome                     0.635017\n",
       "dtype: float64"
      ]
     },
     "execution_count": 8,
     "metadata": {},
     "output_type": "execute_result"
    }
   ],
   "source": [
    "df.skew()"
   ]
  },
  {
   "cell_type": "code",
   "execution_count": 9,
   "id": "5fa52da4",
   "metadata": {},
   "outputs": [
    {
     "name": "stdout",
     "output_type": "stream",
     "text": [
      "0       6\n",
      "1       1\n",
      "2       8\n",
      "3       1\n",
      "4       0\n",
      "       ..\n",
      "763    10\n",
      "764     2\n",
      "765     5\n",
      "766     1\n",
      "767     1\n",
      "Name: Pregnancies, Length: 768, dtype: int64\n",
      "0      148\n",
      "1       85\n",
      "2      183\n",
      "3       89\n",
      "4      137\n",
      "      ... \n",
      "763    101\n",
      "764    122\n",
      "765    121\n",
      "766    126\n",
      "767     93\n",
      "Name: Glucose, Length: 764, dtype: int64\n",
      "0      72\n",
      "1      66\n",
      "2      64\n",
      "3      66\n",
      "4      40\n",
      "       ..\n",
      "763    76\n",
      "764    70\n",
      "765    72\n",
      "766    60\n",
      "767    70\n",
      "Name: BloodPressure, Length: 759, dtype: int64\n",
      "0      35\n",
      "1      29\n",
      "2       0\n",
      "3      23\n",
      "4      35\n",
      "       ..\n",
      "763    48\n",
      "764    27\n",
      "765    23\n",
      "766     0\n",
      "767    31\n",
      "Name: SkinThickness, Length: 724, dtype: int64\n",
      "0        0\n",
      "1        0\n",
      "2        0\n",
      "3       94\n",
      "4      168\n",
      "      ... \n",
      "763    180\n",
      "764      0\n",
      "765    112\n",
      "766      0\n",
      "767      0\n",
      "Name: Insulin, Length: 723, dtype: int64\n",
      "0      33.6\n",
      "1      26.6\n",
      "2      23.3\n",
      "3      28.1\n",
      "4      43.1\n",
      "       ... \n",
      "763    32.9\n",
      "764    36.8\n",
      "765    26.2\n",
      "766    30.1\n",
      "767    30.4\n",
      "Name: BMI, Length: 693, dtype: float64\n",
      "0      0.627\n",
      "1      0.351\n",
      "2      0.672\n",
      "3      0.167\n",
      "4      2.288\n",
      "       ...  \n",
      "763    0.171\n",
      "764    0.340\n",
      "765    0.245\n",
      "766    0.349\n",
      "767    0.315\n",
      "Name: DiabetesPedigreeFunction, Length: 685, dtype: float64\n",
      "0      50\n",
      "1      31\n",
      "2      32\n",
      "3      21\n",
      "5      30\n",
      "       ..\n",
      "763    63\n",
      "764    27\n",
      "765    30\n",
      "766    47\n",
      "767    23\n",
      "Name: Age, Length: 656, dtype: int64\n",
      "0      1\n",
      "1      0\n",
      "2      1\n",
      "3      0\n",
      "5      0\n",
      "      ..\n",
      "763    0\n",
      "764    0\n",
      "765    0\n",
      "766    1\n",
      "767    0\n",
      "Name: Outcome, Length: 642, dtype: int64\n"
     ]
    }
   ],
   "source": [
    "df = outlier_handle_num(df)"
   ]
  },
  {
   "cell_type": "code",
   "execution_count": 10,
   "id": "1188b294",
   "metadata": {},
   "outputs": [
    {
     "name": "stdout",
     "output_type": "stream",
     "text": [
      "<class 'pandas.core.frame.DataFrame'>\n",
      "Int64Index: 642 entries, 0 to 767\n",
      "Data columns (total 9 columns):\n",
      " #   Column                    Non-Null Count  Dtype  \n",
      "---  ------                    --------------  -----  \n",
      " 0   Pregnancies               642 non-null    int64  \n",
      " 1   Glucose                   642 non-null    int64  \n",
      " 2   BloodPressure             642 non-null    int64  \n",
      " 3   SkinThickness             642 non-null    int64  \n",
      " 4   Insulin                   642 non-null    int64  \n",
      " 5   BMI                       642 non-null    float64\n",
      " 6   DiabetesPedigreeFunction  642 non-null    float64\n",
      " 7   Age                       642 non-null    int64  \n",
      " 8   Outcome                   642 non-null    int64  \n",
      "dtypes: float64(2), int64(7)\n",
      "memory usage: 50.2 KB\n"
     ]
    }
   ],
   "source": [
    "df.info()"
   ]
  },
  {
   "cell_type": "code",
   "execution_count": null,
   "id": "bff143ec",
   "metadata": {},
   "outputs": [],
   "source": []
  }
 ],
 "metadata": {
  "kernelspec": {
   "display_name": "Python 3 (ipykernel)",
   "language": "python",
   "name": "python3"
  },
  "language_info": {
   "codemirror_mode": {
    "name": "ipython",
    "version": 3
   },
   "file_extension": ".py",
   "mimetype": "text/x-python",
   "name": "python",
   "nbconvert_exporter": "python",
   "pygments_lexer": "ipython3",
   "version": "3.9.13"
  }
 },
 "nbformat": 4,
 "nbformat_minor": 5
}
